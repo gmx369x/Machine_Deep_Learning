{
 "cells": [
  {
   "cell_type": "markdown",
   "metadata": {},
   "source": [
    "## Steps For Solving Machine Learning Task\n",
    "\n",
    "#### 0.  Preprocess + EDA + Feature Selection\n",
    "#### 1. Extract input and output cols\n",
    "#### 2. Scale the values\n",
    "#### 3. Train test split\n",
    "#### 4. Train the model\n",
    "#### 5. Evaluate the model/model selection\n",
    "#### 6. Deploy the model"
   ]
  },
  {
   "cell_type": "markdown",
   "metadata": {},
   "source": []
  }
 ],
 "metadata": {
  "kernelspec": {
   "display_name": "Python 3",
   "language": "python",
   "name": "python3"
  },
  "language_info": {
   "codemirror_mode": {
    "name": "ipython",
    "version": 3
   },
   "file_extension": ".py",
   "mimetype": "text/x-python",
   "name": "python",
   "nbconvert_exporter": "python",
   "pygments_lexer": "ipython3",
   "version": "3.12.0"
  }
 },
 "nbformat": 4,
 "nbformat_minor": 2
}
